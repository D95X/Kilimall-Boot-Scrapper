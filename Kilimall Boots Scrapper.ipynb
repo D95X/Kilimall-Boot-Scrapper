{
 "cells": [
  {
   "cell_type": "code",
   "execution_count": 7,
   "metadata": {
    "collapsed": false
   },
   "outputs": [],
   "source": [
    "from bs4 import BeautifulSoup as soup\n",
    "from urllib.request import urlopen as uReq"
   ]
  },
  {
   "cell_type": "code",
   "execution_count": 10,
   "metadata": {
    "collapsed": false
   },
   "outputs": [],
   "source": [
    "mall = 'https://www.kilimall.co.ke/men-boots/'\n",
    "\n",
    "#open connection and grab the page\n",
    "uClient = uReq(mall)\n",
    "page_html = uClient.read()\n",
    "uClient.close()\n",
    "\n",
    "#parse the html using soup\n",
    "page_soup = soup(page_html, 'html.parser')"
   ]
  },
  {
   "cell_type": "code",
   "execution_count": 70,
   "metadata": {
    "collapsed": false
   },
   "outputs": [
    {
     "data": {
      "text/plain": [
       "40"
      ]
     },
     "execution_count": 70,
     "metadata": {},
     "output_type": "execute_result"
    }
   ],
   "source": [
    "#grab a boot\n",
    "containers = page_soup.find_all('div', {\"class\":'goods-pic'})\n",
    "len(containers)"
   ]
  },
  {
   "cell_type": "code",
   "execution_count": 158,
   "metadata": {
    "collapsed": false
   },
   "outputs": [
    {
     "data": {
      "text/plain": [
       "<div class=\"goods-pic \"><a href=\"https://www.kilimall.co.ke/item-443436-men-27s-boots-high-quality-work-26-safety-boots-plus-size-47-work-leather-shoes-fashion-ankle-boot-yellow-47.html\" target=\"_blank\" title=\"Men's Boots High Quality Work &amp; Safety Boots Plus Size 47 Work Leather Shoes Fashion Ankle Boot yellow 47\"><img alt=\"Men's Boots High Quality Work &amp; Safety Boots Plus Size 47 Work Leather Shoes Fashion Ankle Boot yellow 47\" class=\"lazyload\" data-src=\"https://d2lpfujvrf17tu.cloudfront.net/kenya/shop/store/goods/1149/2017/04/1149_05450059396090061_240.jpg\" title=\"Men's Boots High Quality Work &amp; Safety Boots Plus Size 47 Work Leather Shoes Fashion Ankle Boot yellow 47\"/></a></div>"
      ]
     },
     "execution_count": 158,
     "metadata": {},
     "output_type": "execute_result"
    }
   ],
   "source": [
    "#rough work, you can ignore this, just checkin a single pair\n",
    "containers[0]"
   ]
  },
  {
   "cell_type": "code",
   "execution_count": 72,
   "metadata": {
    "collapsed": false
   },
   "outputs": [
    {
     "data": {
      "text/plain": [
       "\"Men's Boots High Quality Work & Safety Boots Plus Size 47 Work Leather Shoes Fashion Ankle Boot yellow 47\""
      ]
     },
     "execution_count": 72,
     "metadata": {},
     "output_type": "execute_result"
    }
   ],
   "source": [
    "container = containers[0]\n",
    "container.img['title']"
   ]
  },
  {
   "cell_type": "code",
   "execution_count": 86,
   "metadata": {
    "collapsed": false
   },
   "outputs": [
    {
     "data": {
      "text/plain": [
       "'KSh 4,319'"
      ]
     },
     "execution_count": 86,
     "metadata": {},
     "output_type": "execute_result"
    }
   ],
   "source": [
    "#Grab the prices \n",
    "price_container = page_soup.find_all('em', {\"class\":'sale-price'})\n",
    "price = price_container[0].text\n",
    "price"
   ]
  },
  {
   "cell_type": "code",
   "execution_count": 168,
   "metadata": {
    "collapsed": true
   },
   "outputs": [
    {
     "name": "stdout",
     "output_type": "stream",
     "text": [
      "Men's Boots High Quality Work & Safety Boots Plus Size 47 Work Leather Shoes Fashion Ankle Boot yellow 47\n",
      "Men's Boots High Quality Work & Safety Boots Plus Size 46 Work Leather Shoes Fashion Ankle Boot yellow 46\n",
      "Men Ankle Boots Hike Non-Slip Climbing Outdoor Breathable Mountain Trial Trekking Shoes Waterproof army green 47\n",
      "Men Boots Hike Non-Slip Men Climbing Outdoor Breathable Mountain Trial Trekking Shoes Waterproof grey 45\n",
      "Winter Men Casual Shoes Men Sneaker Warm Winter Men Cotton Shoes Casual Outdoor Shoes Plus Size grey 39\n",
      "The Chelsea Boot Men Suede Martin Boots Low Heel Leather Ankle Boots Sewing Thread Britain Botas black 42\n",
      "Men Winter Ankle Boots Warm Fur Snow Motocycle Male Chelsea Boots Casual Shoes khaki 43\n",
      "Men's martin cowboy  Boot  Outdoor Waterproof Rubber Leisure  Boots England  Retro shoes yellow 41\n",
      "2017 Men Chelsea Shoes Autumn Shoes Chelsea Boots  Men's Casual Shoes Brand Ankle Boots Male brown 41\n",
      "2017 Men Suede Shoes High Quality Winter Shoes Chelsea Boots Style Men's Casual Shoes Brand black 41\n",
      "Men's Boots Warm Fur Winter Boots Fashion Martin Boots Brown Work Leather Ankle Boots Size 39~44 dark brown 42\n",
      "2017 New Arrival Genuine Leather Handmade Mens Shoes High Quality Formal Derby Shoes khaki 41\n",
      "Hiking Boots Outdoor Sports Shoes Men Boots Breathable Walking Mens Trekking Shoes Hiking Shoes black 40\n",
      "Men's Boots Work & Safety Boots Plus Size 48 Snow Boots Leather Shoes Fashion Half Boot dark brown 42\n",
      "CLASSIC LOW CUT VANS SHOES BLACK\n",
      "The new men 's casual high - top shoes British men' s shoes Martin leather boots brown 43\n",
      "Men's Chelsea Boots British Style Ankle Boots Men Casual Shoes Luxury Work Boots Low Cut Boots brown 44\n",
      "Men Boots,Solid Casual Leather Men Boots,Ankle Boots Cool Luxury khaki 39\n",
      "Warm walking shoes high to help velvet anti - fur cotton boots men gray 42\n",
      "Fashion Men's Casual Leather Shoes Oxford Shoes Mens Casual Ankle Boots 39-44 light brown 41\n",
      "Women Boots Men Shoes Men Boots Casual  Winter Boots Genuine Leather  Army Boots Dr Martins Boots BLACK 9.5\n",
      "Waterproof Men's Spring Suede Chukka Boots Mens Martin Boots blue 43\n",
      "BATA Men Boots Casual Wear Tan Brown (8043056) 8\n",
      "Brand Fashion Men Boots, High Quality Men Ankle Boots, Popular Men Autumn Shoes black 40\n",
      "New Style Genuine Leather Women Shoes Men Boots Fashion Ankle Boot Vintage Style Shoes RED 9.5\n",
      "Men's Boots High Quality Warm Fur Winter Boots Plus Size 47 Work Leather Shoes Fashion Ankle Boot yellow 47\n",
      "2017 New Outdoor Military Tactical Combat Boots Sport Army Men Ankle Desert Boots   Travel Hiking black 45\n",
      "Men Tactical Boots Military Desert SWAT  Combat Boots Outdoor Shoes Breathable Wearable Boots Hiking Sandy 43\n",
      "Foreign trade boots men's Martin boots black 39\n",
      "Mens Casual Shoes High Top Shoes Flats Man Canvas Shoes Male black 44\n",
      "Men Boots Fashion Warm Brand Suede Ankle Boots Shoes Men for Spring Autumn Winter Shoe Short Boots grey 42\n",
      "2016 Luxury Brand Designer Men Shoes Leather Ankle Boots Brogue Shoes Slip On Steampunk Style black 42\n",
      "2017 Handmade Leather Men Autumn Winter Boots Ankle Martin Boots For Men black 39\n",
      "Men's Boots High Quality Work & Safety Boots Suede Leather Shoes Fashion Martin Ankle Boot yellow 39\n",
      "Spring/Autumn Fashion Men's Chelsea Boots British Style Fashion Ankle Boots Real Leather Casual Shoe black 39\n",
      "Men Outdoor Snow Boots Winter Shoes Warm Fashion Glitter Metal Hair Ankle Plus Size Fuzzy Work black 42\n",
      "New Fashion Mens Leather Shoes Waterproof  Comfortable Genuine Leather Quality Autumn Ankle Boots black 7\n",
      "Mesh Men Boots Work Safety Shoes Steel Toe Cap For Anti-Smashing Puncture Proof Durable Breathable green 5\n",
      "rain boots waterproof flat with shoes men rain unisex water rubber ankle boots lace up botas black 7\n",
      "British Style Vintage Men Boots Leather Autumn Boots Work Hiking Winter Ankle Boots Shoes black 39\n"
     ]
    }
   ],
   "source": [
    "#rough work, you can ignore this too\n",
    "#Grabbing the name of the Boots\n",
    "for container in containers:\n",
    "    brand = container.img['alt']\n",
    "    \n",
    "    print(brand)"
   ]
  },
  {
   "cell_type": "code",
   "execution_count": 112,
   "metadata": {
    "collapsed": true
   },
   "outputs": [
    {
     "name": "stdout",
     "output_type": "stream",
     "text": [
      "KSh 4,319\n",
      "KSh 3,670\n",
      "KSh 3,456\n",
      "KSh 3,546\n",
      "KSh 2,419\n",
      "KSh 3,497\n",
      "KSh 2,908\n",
      "KSh 4,399\n",
      "KSh 2,653\n",
      "KSh 2,872\n",
      "KSh 4,588\n",
      "KSh 3,698\n",
      "KSh 2,039\n",
      "KSh 3,999\n",
      "KSh 1,820\n",
      "KSh 4,119\n",
      "KSh 3,289\n",
      "KSh 1,805\n",
      "KSh 4,720\n",
      "KSh 4,448\n",
      "KSh 5,998\n",
      "KSh 2,816\n",
      "KSh 7,599\n",
      "KSh 2,311\n",
      "KSh 4,699\n",
      "KSh 5,498\n",
      "KSh 7,599\n",
      "KSh 7,399\n",
      "KSh 3,060\n",
      "KSh 2,945\n",
      "KSh 2,140\n",
      "KSh 3,620\n",
      "KSh 2,820\n",
      "KSh 5,299\n",
      "KSh 2,820\n",
      "KSh 2,448\n",
      "KSh 4,530\n",
      "KSh 3,105\n",
      "KSh 2,670\n",
      "KSh 2,320\n"
     ]
    }
   ],
   "source": [
    "for price in price_container:\n",
    "    print(price.text)"
   ]
  },
  {
   "cell_type": "code",
   "execution_count": 180,
   "metadata": {
    "collapsed": false
   },
   "outputs": [
    {
     "name": "stdout",
     "output_type": "stream",
     "text": [
      "Men's Boots High Quality Work & Safety Boots Plus Size 47 Work Leather Shoes Fashion Ankle Boot yellow 47\n",
      "KSh 2,320\n",
      "Men's Boots High Quality Work & Safety Boots Plus Size 46 Work Leather Shoes Fashion Ankle Boot yellow 46\n",
      "KSh 2,320\n",
      "Men Ankle Boots Hike Non-Slip Climbing Outdoor Breathable Mountain Trial Trekking Shoes Waterproof army green 47\n",
      "KSh 2,320\n",
      "Men Boots Hike Non-Slip Men Climbing Outdoor Breathable Mountain Trial Trekking Shoes Waterproof grey 45\n",
      "KSh 2,320\n",
      "Winter Men Casual Shoes Men Sneaker Warm Winter Men Cotton Shoes Casual Outdoor Shoes Plus Size grey 39\n",
      "KSh 2,320\n",
      "The Chelsea Boot Men Suede Martin Boots Low Heel Leather Ankle Boots Sewing Thread Britain Botas black 42\n",
      "KSh 2,320\n",
      "Men Winter Ankle Boots Warm Fur Snow Motocycle Male Chelsea Boots Casual Shoes khaki 43\n",
      "KSh 2,320\n",
      "Men's martin cowboy  Boot  Outdoor Waterproof Rubber Leisure  Boots England  Retro shoes yellow 41\n",
      "KSh 2,320\n",
      "2017 Men Chelsea Shoes Autumn Shoes Chelsea Boots  Men's Casual Shoes Brand Ankle Boots Male brown 41\n",
      "KSh 2,320\n",
      "2017 Men Suede Shoes High Quality Winter Shoes Chelsea Boots Style Men's Casual Shoes Brand black 41\n",
      "KSh 2,320\n",
      "Men's Boots Warm Fur Winter Boots Fashion Martin Boots Brown Work Leather Ankle Boots Size 39~44 dark brown 42\n",
      "KSh 2,320\n",
      "2017 New Arrival Genuine Leather Handmade Mens Shoes High Quality Formal Derby Shoes khaki 41\n",
      "KSh 2,320\n",
      "Hiking Boots Outdoor Sports Shoes Men Boots Breathable Walking Mens Trekking Shoes Hiking Shoes black 40\n",
      "KSh 2,320\n",
      "Men's Boots Work & Safety Boots Plus Size 48 Snow Boots Leather Shoes Fashion Half Boot dark brown 42\n",
      "KSh 2,320\n",
      "CLASSIC LOW CUT VANS SHOES BLACK\n",
      "KSh 2,320\n",
      "The new men 's casual high - top shoes British men' s shoes Martin leather boots brown 43\n",
      "KSh 2,320\n",
      "Men's Chelsea Boots British Style Ankle Boots Men Casual Shoes Luxury Work Boots Low Cut Boots brown 44\n",
      "KSh 2,320\n",
      "Men Boots,Solid Casual Leather Men Boots,Ankle Boots Cool Luxury khaki 39\n",
      "KSh 2,320\n",
      "Warm walking shoes high to help velvet anti - fur cotton boots men gray 42\n",
      "KSh 2,320\n",
      "Fashion Men's Casual Leather Shoes Oxford Shoes Mens Casual Ankle Boots 39-44 light brown 41\n",
      "KSh 2,320\n",
      "Women Boots Men Shoes Men Boots Casual  Winter Boots Genuine Leather  Army Boots Dr Martins Boots BLACK 9.5\n",
      "KSh 2,320\n",
      "Waterproof Men's Spring Suede Chukka Boots Mens Martin Boots blue 43\n",
      "KSh 2,320\n",
      "BATA Men Boots Casual Wear Tan Brown (8043056) 8\n",
      "KSh 2,320\n",
      "Brand Fashion Men Boots, High Quality Men Ankle Boots, Popular Men Autumn Shoes black 40\n",
      "KSh 2,320\n",
      "New Style Genuine Leather Women Shoes Men Boots Fashion Ankle Boot Vintage Style Shoes RED 9.5\n",
      "KSh 2,320\n",
      "Men's Boots High Quality Warm Fur Winter Boots Plus Size 47 Work Leather Shoes Fashion Ankle Boot yellow 47\n",
      "KSh 2,320\n",
      "2017 New Outdoor Military Tactical Combat Boots Sport Army Men Ankle Desert Boots   Travel Hiking black 45\n",
      "KSh 2,320\n",
      "Men Tactical Boots Military Desert SWAT  Combat Boots Outdoor Shoes Breathable Wearable Boots Hiking Sandy 43\n",
      "KSh 2,320\n",
      "Foreign trade boots men's Martin boots black 39\n",
      "KSh 2,320\n",
      "Mens Casual Shoes High Top Shoes Flats Man Canvas Shoes Male black 44\n",
      "KSh 2,320\n",
      "Men Boots Fashion Warm Brand Suede Ankle Boots Shoes Men for Spring Autumn Winter Shoe Short Boots grey 42\n",
      "KSh 2,320\n",
      "2016 Luxury Brand Designer Men Shoes Leather Ankle Boots Brogue Shoes Slip On Steampunk Style black 42\n",
      "KSh 2,320\n",
      "2017 Handmade Leather Men Autumn Winter Boots Ankle Martin Boots For Men black 39\n",
      "KSh 2,320\n",
      "Men's Boots High Quality Work & Safety Boots Suede Leather Shoes Fashion Martin Ankle Boot yellow 39\n",
      "KSh 2,320\n",
      "Spring/Autumn Fashion Men's Chelsea Boots British Style Fashion Ankle Boots Real Leather Casual Shoe black 39\n",
      "KSh 2,320\n",
      "Men Outdoor Snow Boots Winter Shoes Warm Fashion Glitter Metal Hair Ankle Plus Size Fuzzy Work black 42\n",
      "KSh 2,320\n",
      "New Fashion Mens Leather Shoes Waterproof  Comfortable Genuine Leather Quality Autumn Ankle Boots black 7\n",
      "KSh 2,320\n",
      "Mesh Men Boots Work Safety Shoes Steel Toe Cap For Anti-Smashing Puncture Proof Durable Breathable green 5\n",
      "KSh 2,320\n",
      "rain boots waterproof flat with shoes men rain unisex water rubber ankle boots lace up botas black 7\n",
      "KSh 2,320\n",
      "British Style Vintage Men Boots Leather Autumn Boots Work Hiking Winter Ankle Boots Shoes black 39\n",
      "KSh 2,320\n"
     ]
    }
   ],
   "source": [
    "for container in containers:\n",
    "    brand = container.img['alt']\n",
    "    for price in price_container:\n",
    "        price = price.text\n",
    "        \n",
    "    print(brand + \"\\n\" + price)\n"
   ]
  }
 ],
 "metadata": {
  "kernelspec": {
   "display_name": "Python 3",
   "language": "python",
   "name": "python3"
  },
  "language_info": {
   "codemirror_mode": {
    "name": "ipython",
    "version": 3
   },
   "file_extension": ".py",
   "mimetype": "text/x-python",
   "name": "python",
   "nbconvert_exporter": "python",
   "pygments_lexer": "ipython3",
   "version": "3.6.0"
  }
 },
 "nbformat": 4,
 "nbformat_minor": 2
}
